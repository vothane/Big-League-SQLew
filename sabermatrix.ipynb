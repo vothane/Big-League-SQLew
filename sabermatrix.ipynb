{
  "nbformat": 4,
  "nbformat_minor": 0,
  "metadata": {
    "colab": {
      "name": "Big_Leagues.ipynb",
      "provenance": [],
      "collapsed_sections": [],
      "include_colab_link": true
    },
    "kernelspec": {
      "name": "python3",
      "display_name": "Python 3"
    },
    "language_info": {
      "name": "python"
    }
  },
  "cells": [
    {
      "cell_type": "markdown",
      "metadata": {
        "id": "view-in-github",
        "colab_type": "text"
      },
      "source": [
        "<a href=\"https://colab.research.google.com/github/vothane/sabermatrix/blob/main/sabermatrix.ipynb\" target=\"_parent\"><img src=\"https://colab.research.google.com/assets/colab-badge.svg\" alt=\"Open In Colab\"/></a>"
      ]
    },
    {
      "cell_type": "code",
      "metadata": {
        "id": "sB_Hf1h_jTFu"
      },
      "source": [
        "!pip install pyspark"
      ],
      "execution_count": null,
      "outputs": []
    },
    {
      "cell_type": "code",
      "metadata": {
        "id": "gsJ8x2DR3OCU"
      },
      "source": [
        "from bs4 import BeautifulSoup\n",
        "import requests"
      ],
      "execution_count": 7,
      "outputs": []
    },
    {
      "cell_type": "code",
      "metadata": {
        "id": "n2wXPJE_n5L-"
      },
      "source": [
        "class Table:\n",
        "    def __init__(self):\n",
        "        self.rows = []\n",
        "\n",
        "    @property\n",
        "    def get_rows(self):\n",
        "        return self.rows\n",
        "\n",
        "    def insert(self, row_values):\n",
        "        self.rows.append(row_values)\n",
        "\n",
        "class TableBuilder:\n",
        "    @staticmethod\n",
        "    def build_table(url):\n",
        "        html_doc = requests.get(url)\n",
        "        html_content = BeautifulSoup(html_doc.content, 'html.parser')\n",
        "        \n",
        "        raw = html_content.find('thead')\n",
        "        data = raw.find_all('tr')\n",
        "        rows = data[1:]\n",
        "\n",
        "        table = Table()\n",
        "\n",
        "        convert = lambda txt: float(txt) if txt.replace('.', '', 1).isdigit() else txt\n",
        "        \n",
        "        for cols in rows:\n",
        "            col = cols.find_all(\"td\")\n",
        "            table.insert([convert(txt.text) for txt in col])\n",
        "\n",
        "        return table        "
      ],
      "execution_count": 8,
      "outputs": []
    },
    {
      "cell_type": "code",
      "metadata": {
        "id": "_ymbCTwImRfn",
        "colab": {
          "base_uri": "https://localhost:8080/"
        },
        "outputId": "a8de6a29-88de-4b05-a5cd-9d9306c51a35"
      },
      "source": [
        "from pyspark.sql.types import *\n",
        "from pyspark.sql import SparkSession\n",
        "from pyspark.sql.functions import *\n",
        "\n",
        "# define schema for our data\n",
        "schema = StructType([\n",
        "   StructField(\"Pitch\", StringType(), False),\n",
        "   StructField(\"Count\", FloatType(), False),\n",
        "   StructField(\"Foul/Swing\", FloatType(), False),\n",
        "   StructField(\"Whiff/Swing\", FloatType(), False),\n",
        "   StructField(\"GB/BIP\", FloatType(), False),\n",
        "   StructField(\"LD/BIP\", FloatType(), False),\n",
        "   StructField(\"FB/BIP\", FloatType(), False),\n",
        "   StructField(\"PU/BIP\", FloatType(), False),\n",
        "   StructField(\"GB/FB\", FloatType(), False),\n",
        "   StructField(\"HR/(FB+LD)\", FloatType(), False)])\n",
        "\n",
        "url = \"http://www.brooksbaseball.net/tabs.php?player=456034&var=so\"\n",
        "table = TableBuilder.build_table(url)\n",
        "\n",
        "data = table.get_rows\n",
        "print(data)"
      ],
      "execution_count": 9,
      "outputs": [
        {
          "output_type": "stream",
          "name": "stdout",
          "text": [
            "[['Fourseam', 8724.0, 44.45, 24.19, 37.76, 21.86, 31.0, 9.38, 121.79, 7.07], ['Sinker', 11843.0, 43.11, 16.27, 45.82, 21.56, 25.91, 6.71, 176.84, 7.4], ['Change', 5694.0, 30.21, 31.14, 45.1, 24.92, 22.99, 6.99, 196.15, 6.71], ['Slider', 648.0, 41.28, 21.14, 58.04, 16.07, 16.96, 8.93, 342.11, 21.62], ['Curve', 2860.0, 35.36, 26.41, 48.33, 20.71, 24.72, 6.24, 195.5, 10.29], ['Cutter', 5055.0, 41.55, 21.24, 44.5, 24.31, 24.77, 6.42, 179.63, 8.64]]\n"
          ]
        }
      ]
    },
    {
      "cell_type": "code",
      "metadata": {
        "colab": {
          "base_uri": "https://localhost:8080/"
        },
        "id": "xhocl50gr-JN",
        "outputId": "13cf1378-4ac8-4587-94d5-40d708a38be1"
      },
      "source": [
        "from pyspark.sql.functions import col\n",
        "\n",
        "spark = (SparkSession.builder.appName(\"Big_Leagues\").getOrCreate())\n",
        "\n",
        "sabermetrics = spark.createDataFrame(data, schema)\n",
        " \n",
        "# show David Price most used pitches in descending order\n",
        "(sabermetrics.select(\"Pitch\")\n",
        "             .where(col(\"Count\") > 5000)\n",
        "             .orderBy(desc(\"Count\"))).show()"
      ],
      "execution_count": 10,
      "outputs": [
        {
          "output_type": "stream",
          "name": "stdout",
          "text": [
            "+--------+\n",
            "|   Pitch|\n",
            "+--------+\n",
            "|  Sinker|\n",
            "|Fourseam|\n",
            "|  Change|\n",
            "|  Cutter|\n",
            "+--------+\n",
            "\n"
          ]
        }
      ]
    }
  ]
}